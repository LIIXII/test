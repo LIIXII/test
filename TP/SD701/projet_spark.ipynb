{
 "cells": [
  {
   "cell_type": "code",
   "execution_count": 3,
   "metadata": {},
   "outputs": [],
   "source": [
    "import findspark\n",
    "import pyspark\n",
    "\n",
    "findspark.init()\n",
    "sc = pyspark.SparkContext(appName=\"Spark Lab Session\")"
   ]
  },
  {
   "cell_type": "markdown",
   "metadata": {},
   "source": [
    "## Data cleaning"
   ]
  },
  {
   "cell_type": "code",
   "execution_count": 4,
   "metadata": {},
   "outputs": [
    {
     "data": {
      "text/plain": [
       "['151603712,\"The Elder Scrolls V Skyrim\",purchase,1.0,0',\n",
       " '151603712,\"The Elder Scrolls V Skyrim\",play,273.0,0',\n",
       " '151603712,\"Fallout 4\",purchase,1.0,0',\n",
       " '151603712,\"Fallout 4\",play,87.0,0',\n",
       " '151603712,\"Spore\",purchase,1.0,0',\n",
       " '151603712,\"Spore\",play,14.9,0',\n",
       " '151603712,\"Fallout New Vegas\",purchase,1.0,0',\n",
       " '151603712,\"Fallout New Vegas\",play,12.1,0',\n",
       " '151603712,\"Left 4 Dead 2\",purchase,1.0,0',\n",
       " '151603712,\"Left 4 Dead 2\",play,8.9,0']"
      ]
     },
     "execution_count": 4,
     "metadata": {},
     "output_type": "execute_result"
    }
   ],
   "source": [
    "import re\n",
    "future_pattern = re.compile(\"\"\"([^,\"]+|\"[^\"]+\")(?=,|$)\"\"\")\n",
    "\n",
    "def parseCSV(line):\n",
    "     return future_pattern.findall(line)\n",
    "\n",
    "\n",
    "rawData = sc.textFile(\"/home/lixi/BGD/TP/SD701/steam-video-games/steam-200k.csv\")\n",
    "rawData.take(10)"
   ]
  },
  {
   "cell_type": "markdown",
   "metadata": {},
   "source": [
    "On ignore le terme 'purchase', on s'intéresse ici seulement le nombre d'heures consacrées sur chaque jeu pour chaque utilisateur "
   ]
  },
  {
   "cell_type": "code",
   "execution_count": 8,
   "metadata": {},
   "outputs": [
    {
     "data": {
      "text/plain": [
       "[('151603712', '\"The Elder Scrolls V Skyrim\"', 'play', 273.0),\n",
       " ('151603712', '\"Fallout 4\"', 'play', 87.0),\n",
       " ('151603712', '\"Spore\"', 'play', 14.9),\n",
       " ('151603712', '\"Fallout New Vegas\"', 'play', 12.1),\n",
       " ('151603712', '\"Left 4 Dead 2\"', 'play', 8.9),\n",
       " ('151603712', '\"HuniePop\"', 'play', 8.5),\n",
       " ('151603712', '\"Path of Exile\"', 'play', 8.1),\n",
       " ('151603712', '\"Poly Bridge\"', 'play', 7.5),\n",
       " ('151603712', '\"Left 4 Dead\"', 'play', 3.3),\n",
       " ('151603712', '\"Team Fortress 2\"', 'play', 2.8)]"
      ]
     },
     "execution_count": 8,
     "metadata": {},
     "output_type": "execute_result"
    }
   ],
   "source": [
    "data = rawData.map(parseCSV).map(lambda x:(x[0],x[1],x[2],float(x[3])))\n",
    "hours_played = data.filter(lambda x:x[2]=='play')\n",
    "hours_played.take(10)"
   ]
  },
  {
   "cell_type": "code",
   "execution_count": 11,
   "metadata": {},
   "outputs": [
    {
     "data": {
      "text/plain": [
       "[('151603712', '\"The Elder Scrolls V Skyrim\"', 'play', 273.0),\n",
       " ('151603712', '\"Fallout 4\"', 'play', 87.0),\n",
       " ('151603712', '\"Spore\"', 'play', 14.9),\n",
       " ('151603712', '\"Fallout New Vegas\"', 'play', 12.1),\n",
       " ('151603712', '\"Left 4 Dead 2\"', 'play', 8.9),\n",
       " ('151603712', '\"HuniePop\"', 'play', 8.5),\n",
       " ('151603712', '\"Path of Exile\"', 'play', 8.1),\n",
       " ('151603712', '\"Poly Bridge\"', 'play', 7.5),\n",
       " ('151603712', '\"Left 4 Dead\"', 'play', 3.3),\n",
       " ('151603712', '\"Team Fortress 2\"', 'play', 2.8)]"
      ]
     },
     "execution_count": 11,
     "metadata": {},
     "output_type": "execute_result"
    }
   ],
   "source": [
    "liked_game = hours_played.filter(lambda x:x[3]>2)\n",
    "liked_game.take(10)                          "
   ]
  },
  {
   "cell_type": "code",
   "execution_count": null,
   "metadata": {},
   "outputs": [],
   "source": [
    "liked_game.reduceByKey"
   ]
  }
 ],
 "metadata": {
  "kernelspec": {
   "display_name": "Python 3",
   "language": "python",
   "name": "python3"
  },
  "language_info": {
   "codemirror_mode": {
    "name": "ipython",
    "version": 3
   },
   "file_extension": ".py",
   "mimetype": "text/x-python",
   "name": "python",
   "nbconvert_exporter": "python",
   "pygments_lexer": "ipython3",
   "version": "3.7.4"
  }
 },
 "nbformat": 4,
 "nbformat_minor": 4
}
