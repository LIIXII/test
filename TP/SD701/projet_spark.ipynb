{
 "cells": [
  {
   "cell_type": "code",
   "execution_count": 1,
   "metadata": {},
   "outputs": [],
   "source": [
    "import findspark\n",
    "import pyspark\n",
    "findspark.init()\n",
    "sc = pyspark.SparkContext(appName=\"Spark Lab Session\")"
   ]
  },
  {
   "cell_type": "code",
   "execution_count": 4,
   "metadata": {},
   "outputs": [],
   "source": [
    "import re\n",
    "future_pattern = re.compile(\"\"\"([^,\"]+|\"[^\"]+\")(?=,|$)\"\"\")\n",
    "\n",
    "def parseCSV(line):\n",
    "     return future_pattern.findall(line)\n",
    "\n",
    "\n",
    "ratingsFile = sc.textFile(\"/home/lixi/BGD/TP/SD701/ml-latest-small/ratings.csv\")\n",
    "moviesFile = sc.textFile(\"/home/lixi/BGD/TP/SD701/ml-latest-small/movies.csv\")"
   ]
  },
  {
   "cell_type": "code",
   "execution_count": 11,
   "metadata": {},
   "outputs": [
    {
     "data": {
      "text/plain": [
       "[['1', 'Toy Story (1995)', 'Adventure|Animation|Children|Comedy|Fantasy'],\n",
       " ['2', 'Jumanji (1995)', 'Adventure|Children|Fantasy'],\n",
       " ['3', 'Grumpier Old Men (1995)', 'Comedy|Romance'],\n",
       " ['4', 'Waiting to Exhale (1995)', 'Comedy|Drama|Romance'],\n",
       " ['5', 'Father of the Bride Part II (1995)', 'Comedy'],\n",
       " ['6', 'Heat (1995)', 'Action|Crime|Thriller'],\n",
       " ['7', 'Sabrina (1995)', 'Comedy|Romance'],\n",
       " ['8', 'Tom and Huck (1995)', 'Adventure|Children'],\n",
       " ['9', 'Sudden Death (1995)', 'Action'],\n",
       " ['10', 'GoldenEye (1995)', 'Action|Adventure|Thriller'],\n",
       " ['11', '\"American President, The (1995)\"', 'Comedy|Drama|Romance'],\n",
       " ['12', 'Dracula: Dead and Loving It (1995)', 'Comedy|Horror'],\n",
       " ['13', 'Balto (1995)', 'Adventure|Animation|Children'],\n",
       " ['14', 'Nixon (1995)', 'Drama'],\n",
       " ['15', 'Cutthroat Island (1995)', 'Action|Adventure|Romance'],\n",
       " ['16', 'Casino (1995)', 'Crime|Drama'],\n",
       " ['17', 'Sense and Sensibility (1995)', 'Drama|Romance'],\n",
       " ['18', 'Four Rooms (1995)', 'Comedy'],\n",
       " ['19', 'Ace Ventura: When Nature Calls (1995)', 'Comedy'],\n",
       " ['20', 'Money Train (1995)', 'Action|Comedy|Crime|Drama|Thriller'],\n",
       " ['21', 'Get Shorty (1995)', 'Comedy|Crime|Thriller'],\n",
       " ['22', 'Copycat (1995)', 'Crime|Drama|Horror|Mystery|Thriller'],\n",
       " ['23', 'Assassins (1995)', 'Action|Crime|Thriller'],\n",
       " ['24', 'Powder (1995)', 'Drama|Sci-Fi'],\n",
       " ['25', 'Leaving Las Vegas (1995)', 'Drama|Romance'],\n",
       " ['26', 'Othello (1995)', 'Drama'],\n",
       " ['27', 'Now and Then (1995)', 'Children|Drama'],\n",
       " ['28', 'Persuasion (1995)', 'Drama|Romance'],\n",
       " ['29',\n",
       "  '\"City of Lost Children, The (Cité des enfants perdus, La) (1995)\"',\n",
       "  'Adventure|Drama|Fantasy|Mystery|Sci-Fi'],\n",
       " ['30', 'Shanghai Triad (Yao a yao yao dao waipo qiao) (1995)', 'Crime|Drama']]"
      ]
     },
     "execution_count": 11,
     "metadata": {},
     "output_type": "execute_result"
    }
   ],
   "source": [
    "ratings = ratingsFile.map(parseCSV).filter(lambda x: x[0]!=\"userId\")\n",
    "movies = moviesFile.map(parseCSV).filter(lambda x:x[0]!=\"movieId\")\n",
    "movies.take(30)"
   ]
  },
  {
   "cell_type": "code",
   "execution_count": null,
   "metadata": {},
   "outputs": [],
   "source": []
  }
 ],
 "metadata": {
  "kernelspec": {
   "display_name": "Python 3",
   "language": "python",
   "name": "python3"
  },
  "language_info": {
   "codemirror_mode": {
    "name": "ipython",
    "version": 3
   },
   "file_extension": ".py",
   "mimetype": "text/x-python",
   "name": "python",
   "nbconvert_exporter": "python",
   "pygments_lexer": "ipython3",
   "version": "3.7.4"
  }
 },
 "nbformat": 4,
 "nbformat_minor": 4
}
